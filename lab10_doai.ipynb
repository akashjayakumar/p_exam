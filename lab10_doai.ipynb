{
  "cells": [
    {
      "cell_type": "code",
      "execution_count": null,
      "metadata": {
        "colab": {
          "background_save": true,
          "base_uri": "https://localhost:8080/"
        },
        "id": "f5MgS5lEB1Nh",
        "outputId": "2079455c-26e3-4f7f-b3e4-79317b73acdb"
      },
      "outputs": [
        {
          "name": "stdout",
          "output_type": "stream",
          "text": [
            "Welcome to the 3x3 Magic Square Game!\n",
            "Enter numbers from 1 to 9 to fill the square.\n"
          ]
        }
      ],
      "source": [
        "def is_magic_square(square):\n",
        "    magic_sum = sum(square[0])\n",
        "    # Check rows and columns\n",
        "    for i in range(3):\n",
        "        if sum(square[i]) != magic_sum:\n",
        "            return False\n",
        "        col_sum = sum(square[j][i] for j in range(3))\n",
        "        if col_sum != magic_sum:\n",
        "            return False\n",
        "    # Check diagonals\n",
        "    if sum(square[i][i] for i in range(3)) != magic_sum:\n",
        "        return False\n",
        "    if sum(square[i][2 - i] for i in range(3)) != magic_sum:\n",
        "        return False\n",
        "    return True\n",
        "\n",
        "def print_square(square):\n",
        "    for row in square:\n",
        "        print(\" \".join(map(str, row)))\n",
        "\n",
        "def magic_square_game():\n",
        "    square = [[0, 0, 0], [0, 0, 0], [0, 0, 0]]\n",
        "    numbers = set(range(1, 10))\n",
        "    print(\"Welcome to the 3x3 Magic Square Game!\")\n",
        "    print(\"Enter numbers from 1 to 9 to fill the square.\")\n",
        "    for i in range(3):\n",
        "        for j in range(3):\n",
        "            while True:\n",
        "                try:\n",
        "                    num = int(input(f\"Enter number for row {i+1}, column {j+1}: \"))\n",
        "                    if num in numbers:\n",
        "                        numbers.remove(num)\n",
        "                        square[i][j] = num\n",
        "                        break\n",
        "                    else:\n",
        "                        print(\"Invalid number! Number should be unique and between 1 to 9.\")\n",
        "                except ValueError:\n",
        "                    print(\"Invalid input! Please enter a number.\")\n",
        "\n",
        "    print(\"Your square:\")\n",
        "    print_square(square)\n",
        "\n",
        "    if is_magic_square(square):\n",
        "        print(\"Congratulations! You've created a magic square!\")\n",
        "    else:\n",
        "        print(\"Sorry! Not a magic square.\")\n",
        "\n",
        "magic_square_game()\n",
        "7"
      ]
    }
  ],
  "metadata": {
    "colab": {
      "provenance": []
    },
    "kernelspec": {
      "display_name": "Python 3",
      "name": "python3"
    },
    "language_info": {
      "name": "python"
    }
  },
  "nbformat": 4,
  "nbformat_minor": 0
}